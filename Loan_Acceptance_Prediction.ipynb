{
 "cells": [
  {
   "cell_type": "markdown",
   "metadata": {
    "id": "elgDcjlyK-lQ"
   },
   "source": [
    "## Loan Acceptance Model Project\n",
    "Case Study: Loan Status<br>\n",
    "**Objective:**\n",
    "In this project, we will explore a dataset of Loan data with the below info. We will later try to predict the status of loan for individuals based the following information. The data that you have is divided into two different csv files train.csv and test.csv. </font>\n",
    "\n",
    "## DataSet Description\n",
    "\n",
    "- **Loan_ID:** data set unique ID <br>\n",
    "- **Gender:** individual gender<br>\n",
    "- **Married:** individual marital status<br>\n",
    "- **Dependents:** number of dependents<br>\n",
    "- **Education:** individual education status<br>\n",
    "- **Self_Employed:** individual employment status<br>\n",
    "- **ApplicantIncome:** individual income<br>\n",
    "- **CoapplicantIncome:** individual Coapplicant income<br>\n",
    "- **LoanAmount:** Loan amount in thousands<br>\n",
    "- **Loan_Amount_Term:** term of loan in months<br>\n",
    "- **Credit_History:** credit history meets guidelines<br>\n",
    "- **Property_Area:** Urban/ Semi Urban/ Rural<br>\n",
    "- **Loan_Status:** loan approved (Y/N)<br>"
   ]
  },
  {
   "cell_type": "markdown",
   "metadata": {
    "id": "KIFhQSUBK-lS"
   },
   "source": [
    "# 1. Import libraries\n",
    "Import the following libraries for later usage\n",
    "\n",
    "- Numpy — for scientific computing (e.g., linear algebra (vectors & matrices)).\n",
    "- Pandas — providing high-performance, easy-to-use data reading, manipulation, and analysis.\n",
    "- Matplotlib & seaborn — plotting & visualization.\n",
    "- scikit-learn — a tool for data mining and machine learning models. We will need from it the following functions: LabelEncoder, train_test_split, LogisticRegression, and accuracy_score"
   ]
  },
  {
   "cell_type": "code",
   "execution_count": 4,
   "metadata": {
    "ExecuteTime": {
     "end_time": "2024-03-02T17:25:16.224150700Z",
     "start_time": "2024-03-02T17:25:16.004403Z"
    },
    "id": "xZwyPrVkK-lT"
   },
   "outputs": [],
   "source": [
    "import numpy as np\n",
    "import pandas as pd\n",
    "import matplotlib.pyplot as plt\n",
    "import seaborn as sns\n",
    "import sklearn"
   ]
  },
  {
   "cell_type": "markdown",
   "metadata": {
    "id": "ys1IxIz0NW2s"
   },
   "source": [
    "# 2. Visualize train.csv and test.csv\n",
    "\n",
    "We use pandas module, more specifically, the read_csv function. Read both files and check if all columns mentioned above are present."
   ]
  },
  {
   "cell_type": "code",
   "execution_count": 5,
   "metadata": {
    "ExecuteTime": {
     "end_time": "2024-03-02T17:25:24.238925600Z",
     "start_time": "2024-03-02T17:25:24.182384300Z"
    },
    "colab": {
     "base_uri": "https://localhost:8080/",
     "height": 356
    },
    "id": "CxT3ABFlNV_Q",
    "outputId": "062ee2a1-78d9-4491-ebea-3dd6f6d34146"
   },
   "outputs": [
    {
     "name": "stdout",
     "output_type": "stream",
     "text": [
      "    Loan_ID  Gender Married Dependents     Education Self_Employed  \\\n",
      "0  LP002648    Male     Yes          0      Graduate            No   \n",
      "1  LP002652    Male      No          0      Graduate            No   \n",
      "2  LP002659    Male     Yes         3+      Graduate            No   \n",
      "3  LP002670  Female     Yes          2      Graduate            No   \n",
      "4  LP002682    Male     Yes        NaN  Not Graduate            No   \n",
      "\n",
      "   ApplicantIncome  CoapplicantIncome  LoanAmount  Loan_Amount_Term  \\\n",
      "0             2130               6666        70.0               180   \n",
      "1             5815               3666       311.0               360   \n",
      "2             3466               3428       150.0               360   \n",
      "3             2031               1632       113.0               480   \n",
      "4             3074               1800       123.0               360   \n",
      "\n",
      "   Credit_History Property_Area Loan_Status  \n",
      "0             1.0     Semiurban           N  \n",
      "1             1.0         Rural           N  \n",
      "2             1.0         Rural           Y  \n",
      "3             1.0     Semiurban           Y  \n",
      "4             0.0     Semiurban           N       Loan_ID Gender Married Dependents     Education Self_Employed  \\\n",
      "0  LP001002   Male      No          0      Graduate            No   \n",
      "1  LP001003   Male     Yes          1      Graduate            No   \n",
      "2  LP001005   Male     Yes          0      Graduate           Yes   \n",
      "3  LP001006   Male     Yes          0  Not Graduate            No   \n",
      "4  LP001008   Male      No          0      Graduate            No   \n",
      "\n",
      "   ApplicantIncome  CoapplicantIncome  LoanAmount  Loan_Amount_Term  \\\n",
      "0             5849                0.0         NaN             360.0   \n",
      "1             4583             1508.0       128.0             360.0   \n",
      "2             3000                0.0        66.0             360.0   \n",
      "3             2583             2358.0       120.0             360.0   \n",
      "4             6000                0.0       141.0             360.0   \n",
      "\n",
      "   Credit_History Property_Area Loan_Status  \n",
      "0             1.0         Urban           Y  \n",
      "1             1.0         Rural           N  \n",
      "2             1.0         Urban           Y  \n",
      "3             1.0         Urban           Y  \n",
      "4             1.0         Urban           Y  \n",
      "True\n"
     ]
    }
   ],
   "source": [
    "test_file = pd.read_csv(r\"C:\\Users\\Administrator\\Downloads\\Part 2-20240220T190400Z-001\\Part 2\\test.csv\")\n",
    "train_file = pd.read_csv(r\"C:\\Users\\Administrator\\Downloads\\Part 2-20240220T190400Z-001\\Part 2\\train.csv\")\n",
    "col=['Loan_ID', 'Gender', 'Married', 'Dependents', 'Education', 'Self_Employed', 'ApplicantIncome', 'CoapplicantIncome', 'LoanAmount', 'Loan_Amount_Term', 'Credit_History', 'Property_Area', 'Loan_Status']\n",
    "print(test_file.head(),train_file.head())\n",
    "print((test_file.columns.tolist() == train_file.columns.tolist()) & (train_file.columns.tolist()== col))"
   ]
  },
  {
   "cell_type": "markdown",
   "metadata": {
    "id": "4xjXdDyTK-lW"
   },
   "source": [
    "\n",
    "# 3. Combine the datasets\n",
    "As dataset information match, we combine the two datasets in order to apply the same preprocessing steps on both. We also print the head of our dataset to get a better insight into it."
   ]
  },
  {
   "cell_type": "code",
   "execution_count": 7,
   "metadata": {
    "ExecuteTime": {
     "end_time": "2024-03-02T17:25:32.022914300Z",
     "start_time": "2024-03-02T17:25:31.962840600Z"
    },
    "id": "eaN-1eM5K-lX",
    "outputId": "a51dabc4-d554-42f9-dbc0-1ada18d6e484"
   },
   "outputs": [
    {
     "name": "stdout",
     "output_type": "stream",
     "text": [
      "         Gender Married Dependents     Education Self_Employed  \\\n",
      "Loan_ID                                                          \n",
      "LP001002   Male      No          0      Graduate            No   \n",
      "LP001003   Male     Yes          1      Graduate            No   \n",
      "LP001005   Male     Yes          0      Graduate           Yes   \n",
      "LP001006   Male     Yes          0  Not Graduate            No   \n",
      "LP001008   Male      No          0      Graduate            No   \n",
      "\n",
      "          ApplicantIncome  CoapplicantIncome  LoanAmount  Loan_Amount_Term  \\\n",
      "Loan_ID                                                                      \n",
      "LP001002             5849                0.0         NaN             360.0   \n",
      "LP001003             4583             1508.0       128.0             360.0   \n",
      "LP001005             3000                0.0        66.0             360.0   \n",
      "LP001006             2583             2358.0       120.0             360.0   \n",
      "LP001008             6000                0.0       141.0             360.0   \n",
      "\n",
      "          Credit_History Property_Area Loan_Status  \n",
      "Loan_ID                                             \n",
      "LP001002             1.0         Urban           Y  \n",
      "LP001003             1.0         Rural           N  \n",
      "LP001005             1.0         Urban           Y  \n",
      "LP001006             1.0         Urban           Y  \n",
      "LP001008             1.0         Urban           Y  \n"
     ]
    }
   ],
   "source": [
    "merged_file = pd.concat([train_file,test_file],axis=0)\n",
    "merged_file.set_index('Loan_ID',inplace=True)\n",
    "print(merged_file.head())"
   ]
  },
  {
   "cell_type": "markdown",
   "metadata": {
    "id": "WKcAeoOVK-ld"
   },
   "source": [
    "\n",
    "# 4. Exploratory Data Analysis\n",
    "\n",
    "We start by getting the number of rows and columns \n"
   ]
  },
  {
   "cell_type": "code",
   "execution_count": 8,
   "metadata": {
    "ExecuteTime": {
     "end_time": "2024-03-02T17:25:37.935454400Z",
     "start_time": "2024-03-02T17:25:37.893011800Z"
    },
    "id": "-DmXe7W2K-ld",
    "outputId": "2879b9dd-fd59-4ca8-c138-63cd2315d6ac"
   },
   "outputs": [
    {
     "name": "stdout",
     "output_type": "stream",
     "text": [
      "number of rows= 614 and number of columns = 12\n"
     ]
    }
   ],
   "source": [
    "num_of_rows,num_of_col = merged_file.shape\n",
    "print(\"number of rows=\",num_of_rows,\"and number of columns =\",num_of_col)"
   ]
  },
  {
   "cell_type": "markdown",
   "metadata": {
    "id": "RVH8LAjLK-lg"
   },
   "source": [
    "## We use the function info(), to check:\n",
    "\n",
    "- data types (int, float, or object (e.g., string))\n",
    "- missing values\n",
    "- memory usage\n",
    "- number of rows and columns"
   ]
  },
  {
   "cell_type": "code",
   "execution_count": null,
   "metadata": {
    "ExecuteTime": {
     "end_time": "2024-03-01T14:00:14.640766300Z",
     "start_time": "2024-03-01T14:00:14.595144800Z"
    },
    "id": "kesvYr2pK-lg",
    "outputId": "eda17acc-74eb-4b76-9bb5-300cc2c8a333"
   },
   "outputs": [
    {
     "name": "stdout",
     "output_type": "stream",
     "text": [
      "<class 'pandas.core.frame.DataFrame'>\n",
      "Index: 614 entries, LP001002 to LP002990\n",
      "Data columns (total 12 columns):\n",
      " #   Column             Non-Null Count  Dtype  \n",
      "---  ------             --------------  -----  \n",
      " 0   Gender             601 non-null    object \n",
      " 1   Married            611 non-null    object \n",
      " 2   Dependents         599 non-null    object \n",
      " 3   Education          614 non-null    object \n",
      " 4   Self_Employed      582 non-null    object \n",
      " 5   ApplicantIncome    614 non-null    int64  \n",
      " 6   CoapplicantIncome  614 non-null    float64\n",
      " 7   LoanAmount         592 non-null    float64\n",
      " 8   Loan_Amount_Term   600 non-null    float64\n",
      " 9   Credit_History     564 non-null    float64\n",
      " 10  Property_Area      614 non-null    object \n",
      " 11  Loan_Status        614 non-null    object \n",
      "dtypes: float64(4), int64(1), object(7)\n",
      "memory usage: 62.4+ KB\n"
     ]
    }
   ],
   "source": [
    "merged_file.info()"
   ]
  },
  {
   "cell_type": "markdown",
   "metadata": {
    "id": "bZOtGLcNHBUo"
   },
   "source": [
    "We have 614 rows: <br>\n",
    "For each column, 614 - Non-Null Count = Missing values count\n",
    "\n"
   ]
  },
  {
   "cell_type": "markdown",
   "metadata": {
    "id": "W4ebzltrK-lj"
   },
   "source": [
    "## We use describe(), to check the following  values for each numerical feature\n",
    "- mean\n",
    "- standard deviation\n",
    "- maximum\n",
    "- minimum\n"
   ]
  },
  {
   "cell_type": "code",
   "execution_count": null,
   "metadata": {
    "ExecuteTime": {
     "end_time": "2024-03-01T14:04:49.877169100Z",
     "start_time": "2024-03-01T14:04:49.829181700Z"
    },
    "id": "ECiIV49DK-lk",
    "outputId": "84e1080a-8087-4a94-8dc0-09d4f3e4f9c4"
   },
   "outputs": [
    {
     "name": "stdout",
     "output_type": "stream",
     "text": [
      "       ApplicantIncome  CoapplicantIncome  LoanAmount  Loan_Amount_Term  \\\n",
      "count       614.000000         614.000000  592.000000         600.00000   \n",
      "mean       5403.459283        1621.245798  146.412162         342.00000   \n",
      "std        6109.041673        2926.248369   85.587325          65.12041   \n",
      "min         150.000000           0.000000    9.000000          12.00000   \n",
      "25%        2877.500000           0.000000  100.000000         360.00000   \n",
      "50%        3812.500000        1188.500000  128.000000         360.00000   \n",
      "75%        5795.000000        2297.250000  168.000000         360.00000   \n",
      "max       81000.000000       41667.000000  700.000000         480.00000   \n",
      "\n",
      "       Credit_History  \n",
      "count      564.000000  \n",
      "mean         0.842199  \n",
      "std          0.364878  \n",
      "min          0.000000  \n",
      "25%          1.000000  \n",
      "50%          1.000000  \n",
      "75%          1.000000  \n",
      "max          1.000000  \n"
     ]
    }
   ],
   "source": [
    "print(merged_file.describe())"
   ]
  },
  {
   "cell_type": "markdown",
   "metadata": {
    "id": "-o9MT0LcK-ls"
   },
   "source": [
    "## And describe(include='object'), to check the following  values for each categorical feature:\n",
    "* count\n",
    "* unique\n",
    "* top\n",
    "* freq\n"
   ]
  },
  {
   "cell_type": "code",
   "execution_count": null,
   "metadata": {
    "ExecuteTime": {
     "end_time": "2024-03-01T14:18:47.381700200Z",
     "start_time": "2024-03-01T14:18:47.330565800Z"
    },
    "id": "jrSrdNS1K-lt",
    "outputId": "618666ea-728d-4e86-ca03-d55ff10768d3"
   },
   "outputs": [
    {
     "name": "stdout",
     "output_type": "stream",
     "text": [
      "       Gender Married Dependents Education Self_Employed Property_Area  \\\n",
      "count     601     611        599       614           582           614   \n",
      "unique      2       2          4         2             2             3   \n",
      "top      Male     Yes          0  Graduate            No     Semiurban   \n",
      "freq      489     398        345       480           500           233   \n",
      "\n",
      "       Loan_Status  \n",
      "count          614  \n",
      "unique           2  \n",
      "top              Y  \n",
      "freq           422  \n"
     ]
    }
   ],
   "source": [
    "print(merged_file.describe(include='object'))"
   ]
  },
  {
   "cell_type": "markdown",
   "metadata": {
    "id": "YiTCWqkGu0vZ"
   },
   "source": [
    "Interpreting the results for the variable Gender (We do the same for each variable in order to understand our data very well) :"
   ]
  },
  {
   "cell_type": "markdown",
   "metadata": {
    "id": "WYpDPsZeHQZe"
   },
   "source": [
    "489/601 from loan requests are from males as they take the initiative to buy a car, a house or start a business more often than females do in the region where our data was collected.\n",
    "From 614 individuals, there are 601 identified as Male or Female, while there is 614-601 = 13 didn't tell their gender or there was an error on data entry level."
   ]
  },
  {
   "cell_type": "markdown",
   "metadata": {
    "id": "qabfYYPoK-ly"
   },
   "source": [
    "## We can discover features by computing the frequency for each unique value og them."
   ]
  },
  {
   "cell_type": "code",
   "execution_count": null,
   "metadata": {
    "ExecuteTime": {
     "end_time": "2024-03-01T18:21:47.995875700Z",
     "start_time": "2024-03-01T18:21:47.949626600Z"
    },
    "id": "V9Fe95bPK-ly",
    "outputId": "db8e33d8-66f2-4b82-bdfc-9a0b21a617d3"
   },
   "outputs": [
    {
     "name": "stdout",
     "output_type": "stream",
     "text": [
      "Property_Area\n",
      "Semiurban    233\n",
      "Urban        202\n",
      "Rural        179\n",
      "Name: count, dtype: int64\n"
     ]
    }
   ],
   "source": [
    "#Property_Area\n",
    "print(merged_file['Property_Area'].value_counts())"
   ]
  },
  {
   "cell_type": "code",
   "execution_count": null,
   "metadata": {
    "ExecuteTime": {
     "end_time": "2024-03-01T18:58:46.636145700Z",
     "start_time": "2024-03-01T18:58:46.584549100Z"
    },
    "id": "lysRWAMyK-l1",
    "outputId": "f6ad911a-6b30-46c8-f1ce-b2c4fedb584f"
   },
   "outputs": [
    {
     "name": "stdout",
     "output_type": "stream",
     "text": [
      "Dependents\n",
      "0     345\n",
      "1     102\n",
      "2     101\n",
      "3+     51\n",
      "Name: count, dtype: int64\n"
     ]
    }
   ],
   "source": [
    "#Dependents\n",
    "print(merged_file['Dependents'].value_counts())"
   ]
  },
  {
   "cell_type": "markdown",
   "metadata": {
    "id": "f1agjKAXK-l4"
   },
   "source": [
    "## Creating a new dataframe removeNA_df, where we remove the nulls existing in the original dataframe. \n",
    "This is only for being able to visualize distributions. In a later step, we will be focusing on cleaning our original dataset in a better way"
   ]
  },
  {
   "cell_type": "code",
   "execution_count": 9,
   "metadata": {
    "ExecuteTime": {
     "end_time": "2024-03-03T20:29:44.000877700Z",
     "start_time": "2024-03-03T20:29:43.932286200Z"
    },
    "id": "BvkUss-UwX4z",
    "outputId": "768701ec-09b3-4731-c5fa-bd280a3ef068"
   },
   "outputs": [
    {
     "name": "stdout",
     "output_type": "stream",
     "text": [
      "         Gender Married Dependents     Education Self_Employed  \\\n",
      "Loan_ID                                                          \n",
      "LP001003   Male     Yes          1      Graduate            No   \n",
      "LP001005   Male     Yes          0      Graduate           Yes   \n",
      "LP001006   Male     Yes          0  Not Graduate            No   \n",
      "LP001008   Male      No          0      Graduate            No   \n",
      "LP001011   Male     Yes          2      Graduate           Yes   \n",
      "\n",
      "          ApplicantIncome  CoapplicantIncome  LoanAmount  Loan_Amount_Term  \\\n",
      "Loan_ID                                                                      \n",
      "LP001003             4583             1508.0       128.0             360.0   \n",
      "LP001005             3000                0.0        66.0             360.0   \n",
      "LP001006             2583             2358.0       120.0             360.0   \n",
      "LP001008             6000                0.0       141.0             360.0   \n",
      "LP001011             5417             4196.0       267.0             360.0   \n",
      "\n",
      "          Credit_History Property_Area Loan_Status  \n",
      "Loan_ID                                             \n",
      "LP001003             1.0         Rural           N  \n",
      "LP001005             1.0         Urban           Y  \n",
      "LP001006             1.0         Urban           Y  \n",
      "LP001008             1.0         Urban           Y  \n",
      "LP001011             1.0         Urban           Y  \n"
     ]
    }
   ],
   "source": [
    "removeNA_df = (pd.DataFrame(merged_file)).dropna()\n",
    "print(removeNA_df.head())"
   ]
  },
  {
   "cell_type": "markdown",
   "metadata": {
    "id": "TX-sjaDBwZhp"
   },
   "source": [
    "## Plotting the distribution and the boxplot for the variable 'LoanAmount'"
   ]
  },
  {
   "cell_type": "code",
   "execution_count": null,
   "metadata": {
    "ExecuteTime": {
     "end_time": "2024-03-01T15:55:29.690371800Z",
     "start_time": "2024-03-01T15:55:26.831790100Z"
    },
    "id": "3GLVciuCK-l4",
    "outputId": "a6331d15-c5c7-498a-d2c5-87e0cb62be2b"
   },
   "outputs": [
    {
     "data": {
      "image/png": "[encoded data removed]",
      "text/plain": [
       "<Figure size 1000x600 with 1 Axes>"
      ]
     },
     "metadata": {},
     "output_type": "display_data"
    },
    {
     "data": {
      "image/png": "[encoded data removed]",
      "text/plain": [
       "<Figure size 1000x400 with 1 Axes>"
      ]
     },
     "metadata": {},
     "output_type": "display_data"
    }
   ],
   "source": [
    "plt.figure(figsize=(10, 6))\n",
    "plt.scatter(removeNA_df.index,removeNA_df['LoanAmount'])\n",
    "plt.xlabel('Loan ID')\n",
    "plt.ylabel('Loan Ammount')\n",
    "\n",
    "plt.figure(figsize=(10, 4))\n",
    "plt.subplot(1,2,2)\n",
    "plt.boxplot(removeNA_df['LoanAmount'],vert=False)\n",
    "plt.show()"
   ]
  },
  {
   "cell_type": "markdown",
   "metadata": {
    "id": "WlfUMFZ4wpIJ"
   },
   "source": [
    "* Is there any outlier?\n",
    "* Is the data skewed?"
   ]
  },
  {
   "cell_type": "markdown",
   "metadata": {
    "id": "rU8p0AHkHW0J"
   },
   "source": [
    "There are outliers in the data. The box plot clearly shows individual points beyond the upper whisker, which indicates outliers. These outliers are loan amounts significantly higher than the rest of the dataset.\n",
    "\n",
    "Regarding skewness, the box plot suggests that the data is positively skewed (right-skewed). The median is closer to the lower quartile, and the whisker on the higher end is longer, with many outliers extending towards higher values. This indicates that while most loans are within a certain range, some loans have significantly higher amounts."
   ]
  },
  {
   "cell_type": "markdown",
   "metadata": {
    "id": "-2F32oVYxAnC"
   },
   "source": [
    "## Doing the same for the variable 'ApplicantIncome'"
   ]
  },
  {
   "cell_type": "code",
   "execution_count": null,
   "metadata": {
    "ExecuteTime": {
     "end_time": "2024-03-01T16:00:01.071225700Z",
     "start_time": "2024-03-01T15:59:58.247418500Z"
    },
    "id": "KeyynE7mK-l7",
    "outputId": "d9a06819-edd1-4ae0-a92c-7c25d89c919b"
   },
   "outputs": [
    {
     "data": {
      "image/png": "[encoded data removed]",
      "text/plain": [
       "<Figure size 1000x600 with 1 Axes>"
      ]
     },
     "metadata": {},
     "output_type": "display_data"
    },
    {
     "data": {
      "image/png": "[encoded data removed]",
      "text/plain": [
       "<Figure size 1000x400 with 1 Axes>"
      ]
     },
     "metadata": {},
     "output_type": "display_data"
    }
   ],
   "source": [
    "plt.figure(figsize=(10, 6))\n",
    "plt.scatter(removeNA_df.index,removeNA_df['ApplicantIncome'])\n",
    "plt.xlabel('Loan ID')\n",
    "plt.ylabel('Applicant Income')\n",
    "\n",
    "plt.figure(figsize=(10, 4))\n",
    "plt.subplot(1,2,2)\n",
    "plt.boxplot(removeNA_df['ApplicantIncome'],vert=False)\n",
    "plt.show()"
   ]
  },
  {
   "cell_type": "markdown",
   "metadata": {
    "id": "EHwSidYrK-l9"
   },
   "source": [
    "* Is there any outlier?\n",
    "* Is the data skewed?"
   ]
  },
  {
   "cell_type": "markdown",
   "metadata": {
    "id": "XPmDPvdHHZQv"
   },
   "source": [
    "There are outliers. The scatter plot shows a few data points that are significantly higher than the majority of the values. These points, particularly those around 40,000, 50,000, and 80,000 in applicant income, indicate the presence of extreme values.\n",
    "\n",
    "Regarding skewness, the data appears to be positively skewed (right-skewed). Most applicant incomes are clustered in the lower range, while a few extreme values stretch towards the higher end. This suggests that while most applicants have relatively low incomes, a few have very high incomes, which skews the distribution to the right."
   ]
  },
  {
   "cell_type": "markdown",
   "metadata": {
    "id": "C_L_FuNUyBwK"
   },
   "source": [
    "## Plotting the value_counts for 'Loan_Amount_term'"
   ]
  },
  {
   "cell_type": "code",
   "execution_count": 32,
   "metadata": {
    "ExecuteTime": {
     "end_time": "2024-03-01T18:24:25.229240200Z",
     "start_time": "2024-03-01T18:24:25.055686800Z"
    },
    "id": "UGmNxb_DK-mD",
    "outputId": "cb8751bb-d11f-49bc-e1c9-17877f062572"
   },
   "outputs": [
    {
     "data": {
      "text/plain": [
       "Text(0, 0.5, 'Counts')"
      ]
     },
     "execution_count": 32,
     "metadata": {},
     "output_type": "execute_result"
    },
    {
     "data": {
      "image/png": "[encoded data removed]",
      "text/plain": [
       "<Figure size 640x480 with 1 Axes>"
      ]
     },
     "metadata": {},
     "output_type": "display_data"
    }
   ],
   "source": [
    "value_counts =removeNA_df['Loan_Amount_Term'].value_counts()\n",
    "sns.barplot(x=value_counts.index,y=value_counts.values)\n",
    "plt.ylabel('Counts')"
   ]
  },
  {
   "cell_type": "markdown",
   "metadata": {
    "id": "c9pcdqP-0GB5"
   },
   "source": [
    "## Perform CrossTabing for analyzing categorical data relationships\n",
    "It is useful for initial analysis to see patterns in categorical data.\n",
    "\n",
    "Perform CrossTabing between Gender and Loan_Status, and then plot the acceptance/rejection of loans for different Genders"
   ]
  },
  {
   "cell_type": "code",
   "execution_count": 10,
   "metadata": {
    "ExecuteTime": {
     "end_time": "2024-03-02T19:05:40.522088400Z",
     "start_time": "2024-03-02T19:05:40.469442700Z"
    },
    "id": "6Ho3DtqlOfRZ",
    "outputId": "5331bc4f-f809-4644-a193-da008aa03e98"
   },
   "outputs": [
    {
     "name": "stdout",
     "output_type": "stream",
     "text": [
      "Loan_Status    N    Y\n",
      "Gender               \n",
      "Female        32   54\n",
      "Male         116  278\n"
     ]
    }
   ],
   "source": [
    "cross_tab = pd.crosstab(removeNA_df['Gender'],removeNA_df['Loan_Status'])\n",
    "print(cross_tab)"
   ]
  },
  {
   "cell_type": "code",
   "execution_count": null,
   "metadata": {
    "ExecuteTime": {
     "end_time": "2024-03-02T17:40:11.218586500Z",
     "start_time": "2024-03-02T17:40:11.146928500Z"
    },
    "id": "vKEkDE5bK-mI",
    "outputId": "7e6f86ec-3137-481c-89f3-33a6de0acdfb"
   },
   "outputs": [
    {
     "name": "stdout",
     "output_type": "stream",
     "text": [
      "[0.37209302325581395, 0.627906976744186]\n",
      "[0.29441624365482233, 0.7055837563451777]\n"
     ]
    }
   ],
   "source": [
    "freq_of_female = [cross_tab.iloc[0,0]/(cross_tab.iloc[0,0]+cross_tab.iloc[0,1]),cross_tab.iloc[0,1]/(cross_tab.iloc[0,0]+cross_tab.iloc[0,1])]\n",
    "print(freq_of_female)\n",
    "freq_of_male = [cross_tab.iloc[1,0]/(cross_tab.iloc[1,0]+cross_tab.iloc[1,1]),cross_tab.iloc[1,1]/(cross_tab.iloc[1,0]+cross_tab.iloc[1,1])]\n",
    "print(freq_of_male)"
   ]
  },
  {
   "cell_type": "markdown",
   "metadata": {
    "id": "RE7UIh5_0T83"
   },
   "source": [
    "Does the Gender affect the acceptance of the Loan?"
   ]
  },
  {
   "cell_type": "markdown",
   "metadata": {
    "id": "msFlsQonHgrn"
   },
   "source": [
    "The proportions of loan acceptance between male and female are close. Therefore we can tell that the gender has a neglected effect on the Loan Status"
   ]
  },
  {
   "cell_type": "markdown",
   "metadata": {
    "id": "lQH8mJ2G0jIv"
   },
   "source": [
    "## Doing the same with Credit_history and Loan_Status"
   ]
  },
  {
   "cell_type": "code",
   "execution_count": null,
   "metadata": {
    "ExecuteTime": {
     "end_time": "2024-03-02T17:46:17.711593400Z",
     "start_time": "2024-03-02T17:46:17.608577100Z"
    },
    "id": "P_GMY0r_K-mK",
    "outputId": "a0407411-100c-4f70-be63-c647fc7c28e1"
   },
   "outputs": [
    {
     "name": "stdout",
     "output_type": "stream",
     "text": [
      "Loan_Status      N    Y\n",
      "Credit_History         \n",
      "0.0             63    7\n",
      "1.0             85  325\n",
      "[0.9, 0.1]\n",
      "[0.2073170731707317, 0.7926829268292683]\n"
     ]
    }
   ],
   "source": [
    "cross_tab = pd.crosstab(removeNA_df['Credit_History'],removeNA_df['Loan_Status'])\n",
    "print(cross_tab)\n",
    "freq_of_0 = [cross_tab.iloc[0,0]/(cross_tab.iloc[0,0]+cross_tab.iloc[0,1]),cross_tab.iloc[0,1]/(cross_tab.iloc[0,0]+cross_tab.iloc[0,1])]\n",
    "print(freq_of_0)\n",
    "freq_of_1 = [cross_tab.iloc[1,0]/(cross_tab.iloc[1,0]+cross_tab.iloc[1,1]),cross_tab.iloc[1,1]/(cross_tab.iloc[1,0]+cross_tab.iloc[1,1])]\n",
    "print(freq_of_1)"
   ]
  },
  {
   "cell_type": "markdown",
   "metadata": {
    "id": "ohJtw6Sf0u1w"
   },
   "source": [
    "Does the Credit History affect the acceptance of the Loan?"
   ]
  },
  {
   "cell_type": "markdown",
   "metadata": {
    "id": "smcdqo-kHkAX"
   },
   "source": [
    "Abscence of credit history led to 90% of loans rejection\n",
    "While a credit history led to only 80% of loans acceptance\n",
    "We can deduce that credit history affect strongly the Loan Status."
   ]
  },
  {
   "cell_type": "markdown",
   "metadata": {
    "id": "OeetbceF04df"
   },
   "source": [
    "## Doing the same with Dependents and Loan_Status"
   ]
  },
  {
   "cell_type": "code",
   "execution_count": null,
   "metadata": {
    "ExecuteTime": {
     "end_time": "2024-03-02T17:53:40.623831800Z",
     "start_time": "2024-03-02T17:53:40.528663400Z"
    },
    "id": "bGyaa6z3K-mO",
    "outputId": "339e8bf0-3ed7-4be3-c322-2d0ff1650e0c"
   },
   "outputs": [
    {
     "name": "stdout",
     "output_type": "stream",
     "text": [
      "Loan_Status   N    Y\n",
      "Dependents          \n",
      "0            87  187\n",
      "1            28   52\n",
      "2            20   65\n",
      "3+           13   28\n",
      "[0.3175182481751825, 0.6824817518248175]\n",
      "[0.35, 0.65]\n",
      "[0.23529411764705882, 0.7647058823529411]\n",
      "[0.3170731707317073, 0.6829268292682927]\n"
     ]
    }
   ],
   "source": [
    "cross_tab = pd.crosstab(removeNA_df['Dependents'],removeNA_df['Loan_Status'])\n",
    "print(cross_tab)\n",
    "freq_of_0 = [cross_tab.iloc[0,0]/(cross_tab.iloc[0,0]+cross_tab.iloc[0,1]),cross_tab.iloc[0,1]/(cross_tab.iloc[0,0]+cross_tab.iloc[0,1])]\n",
    "print(freq_of_0)\n",
    "freq_of_1 = [cross_tab.iloc[1,0]/(cross_tab.iloc[1,0]+cross_tab.iloc[1,1]),cross_tab.iloc[1,1]/(cross_tab.iloc[1,0]+cross_tab.iloc[1,1])]\n",
    "print(freq_of_1)\n",
    "freq_of_2 = [cross_tab.iloc[2,0]/(cross_tab.iloc[2,0]+cross_tab.iloc[2,1]),cross_tab.iloc[2,1]/(cross_tab.iloc[2,0]+cross_tab.iloc[2,1])]\n",
    "print(freq_of_2)\n",
    "freq_of_3 = [cross_tab.iloc[3,0]/(cross_tab.iloc[3,0]+cross_tab.iloc[3,1]),cross_tab.iloc[3,1]/(cross_tab.iloc[3,0]+cross_tab.iloc[3,1])]\n",
    "print(freq_of_3)"
   ]
  },
  {
   "cell_type": "markdown",
   "metadata": {
    "id": "PdVe_fqPK-mQ"
   },
   "source": [
    "Does the number of dependents affect the acceptance of the Loan?"
   ]
  },
  {
   "cell_type": "markdown",
   "metadata": {
    "id": "0qUtn1coHlhg"
   },
   "source": [
    "The acceptance rate varies across different dependent categories but does not show a strong linear trend."
   ]
  },
  {
   "cell_type": "markdown",
   "metadata": {
    "id": "o_7TyIEA1IrW"
   },
   "source": [
    "## Doing the same between Education and Loan_Status"
   ]
  },
  {
   "cell_type": "code",
   "execution_count": null,
   "metadata": {
    "ExecuteTime": {
     "end_time": "2024-03-02T19:05:57.080907100Z",
     "start_time": "2024-03-02T19:05:56.991657100Z"
    },
    "id": "BKCYwmZSK-mQ",
    "outputId": "a203e213-9c86-4658-93bc-0aab332613e5"
   },
   "outputs": [
    {
     "name": "stdout",
     "output_type": "stream",
     "text": [
      "Loan_Status     N    Y\n",
      "Education             \n",
      "Graduate      112  271\n",
      "Not Graduate   36   61\n",
      "[0.2924281984334204, 0.7075718015665796]\n",
      "[0.3711340206185567, 0.6288659793814433]\n"
     ]
    }
   ],
   "source": [
    "cross_tab = pd.crosstab(removeNA_df['Education'],removeNA_df['Loan_Status'])\n",
    "print(cross_tab)\n",
    "freq_of_graduated = [cross_tab.iloc[0,0]/(cross_tab.iloc[0,0]+cross_tab.iloc[0,1]),cross_tab.iloc[0,1]/(cross_tab.iloc[0,0]+cross_tab.iloc[0,1])]\n",
    "print(freq_of_graduated)\n",
    "freq_of_not_graduated = [cross_tab.iloc[1,0]/(cross_tab.iloc[1,0]+cross_tab.iloc[1,1]),cross_tab.iloc[1,1]/(cross_tab.iloc[1,0]+cross_tab.iloc[1,1])]\n",
    "print(freq_of_not_graduated)"
   ]
  },
  {
   "cell_type": "markdown",
   "metadata": {
    "id": "RTMbGhDjK-mS"
   },
   "source": [
    "Does the level of education affect the acceptance of the Loan?"
   ]
  },
  {
   "cell_type": "markdown",
   "metadata": {
    "id": "9sj0a-cvHnFB"
   },
   "source": [
    "The data suggests that graduates have a higher chance of loan approval compared to non-graduates.\n",
    "However, the effect may not be strong enough without further statistical validation."
   ]
  },
  {
   "cell_type": "markdown",
   "metadata": {
    "id": "U8PV2Czu1Xh2"
   },
   "source": [
    "## Doing the same between Married and Loan_Status"
   ]
  },
  {
   "cell_type": "code",
   "execution_count": null,
   "metadata": {
    "ExecuteTime": {
     "end_time": "2024-03-02T17:58:47.661385300Z",
     "start_time": "2024-03-02T17:58:47.600728200Z"
    },
    "id": "Oe0AnWl8K-mU",
    "outputId": "188e025e-c0a3-4a18-a0b4-3aa880c4e2c0"
   },
   "outputs": [
    {
     "name": "stdout",
     "output_type": "stream",
     "text": [
      "Loan_Status   N    Y\n",
      "Married             \n",
      "No           64  105\n",
      "Yes          84  227\n",
      "[0.378698224852071, 0.621301775147929]\n",
      "[0.27009646302250806, 0.729903536977492]\n"
     ]
    }
   ],
   "source": [
    "cross_tab = pd.crosstab(removeNA_df['Married'],removeNA_df['Loan_Status'])\n",
    "print(cross_tab)\n",
    "freq_of_no = [cross_tab.iloc[0,0]/(cross_tab.iloc[0,0]+cross_tab.iloc[0,1]),cross_tab.iloc[0,1]/(cross_tab.iloc[0,0]+cross_tab.iloc[0,1])]\n",
    "print(freq_of_no)\n",
    "freq_of_yes = [cross_tab.iloc[1,0]/(cross_tab.iloc[1,0]+cross_tab.iloc[1,1]),cross_tab.iloc[1,1]/(cross_tab.iloc[1,0]+cross_tab.iloc[1,1])]\n",
    "print(freq_of_yes)"
   ]
  },
  {
   "cell_type": "markdown",
   "metadata": {
    "id": "2MfVWAuKK-mW"
   },
   "source": [
    "Does the marriage affect the acceptance of the Loan?"
   ]
  },
  {
   "cell_type": "markdown",
   "metadata": {
    "id": "7j7NUwLfHos-"
   },
   "source": [
    "The percentage of loan acceptance for not married is a little lower(62%) than the married (72%).\n",
    "This difference of 10% could be because the bank consider the married ones  have their partner as support, and tend to be more committed."
   ]
  },
  {
   "cell_type": "markdown",
   "metadata": {
    "id": "SnK8fMJs1m2O"
   },
   "source": [
    "## Doing the same between Property_Area and Loan_Status"
   ]
  },
  {
   "cell_type": "code",
   "execution_count": null,
   "metadata": {
    "ExecuteTime": {
     "end_time": "2024-03-02T18:04:38.020852900Z",
     "start_time": "2024-03-02T18:04:37.953601600Z"
    },
    "id": "cYaHhLoeK-mW",
    "outputId": "a50694f9-5b76-4b78-cd56-d8dc4f5de85e"
   },
   "outputs": [
    {
     "name": "stdout",
     "output_type": "stream",
     "text": [
      "Loan_Status     N    Y\n",
      "Property_Area         \n",
      "Rural          54   85\n",
      "Semiurban      42  149\n",
      "Urban          52   98\n",
      "[0.38848920863309355, 0.6115107913669064]\n",
      "[0.2198952879581152, 0.7801047120418848]\n",
      "[0.3466666666666667, 0.6533333333333333]\n"
     ]
    }
   ],
   "source": [
    "cross_tab = pd.crosstab(removeNA_df['Property_Area'],removeNA_df['Loan_Status'])\n",
    "print(cross_tab)\n",
    "freq_of_rural = [cross_tab.iloc[0,0]/(cross_tab.iloc[0,0]+cross_tab.iloc[0,1]),cross_tab.iloc[0,1]/(cross_tab.iloc[0,0]+cross_tab.iloc[0,1])]\n",
    "print(freq_of_rural)\n",
    "freq_of_semiurban = [cross_tab.iloc[1,0]/(cross_tab.iloc[1,0]+cross_tab.iloc[1,1]),cross_tab.iloc[1,1]/(cross_tab.iloc[1,0]+cross_tab.iloc[1,1])]\n",
    "print(freq_of_semiurban)\n",
    "freq_of_urban = [cross_tab.iloc[2,0]/(cross_tab.iloc[2,0]+cross_tab.iloc[2,1]),cross_tab.iloc[2,1]/(cross_tab.iloc[2,0]+cross_tab.iloc[2,1])]\n",
    "print(freq_of_urban)"
   ]
  },
  {
   "cell_type": "markdown",
   "metadata": {
    "id": "0GpJHhVkK-mY"
   },
   "source": [
    "Does the Property Area affect the acceptance of the Loan?"
   ]
  },
  {
   "cell_type": "markdown",
   "metadata": {
    "id": "KFSGnV5KHqIO"
   },
   "source": [
    "The data suggests that applicants from semiurban areas have a higher chance of loan approval.\n",
    "Rural applicants have the lowest approval rate, which might indicate higher risk factors.\n",
    "Urban areas fall in between, showing moderate acceptance rates."
   ]
  },
  {
   "cell_type": "markdown",
   "metadata": {
    "id": "UNG_-eKf11xW"
   },
   "source": [
    "## Doing the same between Self_Employed and Loan_Status"
   ]
  },
  {
   "cell_type": "code",
   "execution_count": null,
   "metadata": {
    "ExecuteTime": {
     "end_time": "2024-03-02T18:06:08.531162300Z",
     "start_time": "2024-03-02T18:06:08.475978500Z"
    },
    "id": "pXCGrtKEK-mY",
    "outputId": "03740f8c-52db-4fa4-ac9f-837218756b64"
   },
   "outputs": [
    {
     "name": "stdout",
     "output_type": "stream",
     "text": [
      "Loan_Status      N    Y\n",
      "Self_Employed          \n",
      "No             125  289\n",
      "Yes             23   43\n",
      "[0.30193236714975846, 0.6980676328502415]\n",
      "[0.3484848484848485, 0.6515151515151515]\n"
     ]
    }
   ],
   "source": [
    "cross_tab = pd.crosstab(removeNA_df['Self_Employed'],removeNA_df['Loan_Status'])\n",
    "print(cross_tab)\n",
    "freq_of_no = [cross_tab.iloc[0,0]/(cross_tab.iloc[0,0]+cross_tab.iloc[0,1]),cross_tab.iloc[0,1]/(cross_tab.iloc[0,0]+cross_tab.iloc[0,1])]\n",
    "print(freq_of_no)\n",
    "freq_of_yes = [cross_tab.iloc[1,0]/(cross_tab.iloc[1,0]+cross_tab.iloc[1,1]),cross_tab.iloc[1,1]/(cross_tab.iloc[1,0]+cross_tab.iloc[1,1])]\n",
    "print(freq_of_yes)\n"
   ]
  },
  {
   "cell_type": "markdown",
   "metadata": {
    "id": "ot0Gf-XJK-ma"
   },
   "source": [
    "Does the Self Employed Property affect the acceptance of the Loan?"
   ]
  },
  {
   "cell_type": "markdown",
   "metadata": {
    "id": "SpYJ0haWHrp3"
   },
   "source": [
    "There is almost no difference in acceptance rates. Self-employment has no influence on Loan prediction."
   ]
  },
  {
   "cell_type": "markdown",
   "metadata": {
    "id": "bYCU_Weh3UJ1"
   },
   "source": [
    "## Group your dataframe by Loan_Status on the median Value"
   ]
  },
  {
   "cell_type": "code",
   "execution_count": 25,
   "metadata": {
    "ExecuteTime": {
     "end_time": "2024-03-03T16:18:02.011550700Z",
     "start_time": "2024-03-03T16:18:01.963714Z"
    },
    "id": "ye81y7MNK-mj",
    "outputId": "25068367-0b07-4e36-9dc7-a745b90072d9"
   },
   "outputs": [
    {
     "name": "stdout",
     "output_type": "stream",
     "text": [
      "             ApplicantIncome  CoapplicantIncome  LoanAmount  Loan_Amount_Term  \\\n",
      "Loan_Status                                                                     \n",
      "N                     3871.0                0.0       128.0             360.0   \n",
      "Y                     3858.5             1211.5       128.0             360.0   \n",
      "\n",
      "             Credit_History  \n",
      "Loan_Status                  \n",
      "N                       1.0  \n",
      "Y                       1.0  \n"
     ]
    }
   ],
   "source": [
    "result = removeNA_df.groupby('Loan_Status').agg({\n",
    "    'ApplicantIncome': 'median',\n",
    "    'CoapplicantIncome': 'median',\n",
    "    'LoanAmount': 'median',\n",
    "    'Loan_Amount_Term': 'median',\n",
    "    'Credit_History': 'median',\n",
    "})\n",
    "print(result)"
   ]
  },
  {
   "cell_type": "markdown",
   "metadata": {
    "id": "QZ4-cj_M3jaV"
   },
   "source": [
    "Deduction"
   ]
  },
  {
   "cell_type": "markdown",
   "metadata": {
    "id": "uuA79BBhHwVO"
   },
   "source": [
    "Coapplicant Income seems to be a potentially important feature in determining loan acceptance. Those with a non-zero coapplicant income tend to have their loans accepted more often, suggesting that having additional income may improve loan eligibility.\n",
    "Applicant Income and Loan Amount do not show significant differences between accepted and non-accepted loans.\n",
    "The Loan Term and Credit History do not show a strong distinction either, indicating that these factors may not be as influential in the decision-making process for loan acceptance."
   ]
  },
  {
   "cell_type": "markdown",
   "metadata": {
    "id": "PuiYEDpYK-mm"
   },
   "source": [
    "\n",
    "# 5. Preprocessing\n",
    "\n",
    "\n",
    "<br>\n",
    "Data should be preprocessed and cleaned to get rid of noisy data. Preprocessing includes:\n",
    "\n",
    "- remove unsued column(s)\n",
    "- remove garbage data\n",
    "- convert continous data into categorical\n",
    "- treat missing data\n",
    "- encode categorical data\n",
    "- normalization: standarize data ranges for all features (e.g., between 0 and 1)"
   ]
  },
  {
   "cell_type": "markdown",
   "metadata": {
    "id": "JGumTAZLK-mm"
   },
   "source": [
    "## Remove unused columns"
   ]
  },
  {
   "cell_type": "markdown",
   "metadata": {
    "id": "XtnXZzTM39lp"
   },
   "source": [
    "Remove the features that do not contribute to the prediction of the loan status"
   ]
  },
  {
   "cell_type": "code",
   "execution_count": 27,
   "metadata": {
    "ExecuteTime": {
     "end_time": "2024-03-03T20:39:30.046300600Z",
     "start_time": "2024-03-03T20:39:30.006257500Z"
    },
    "id": "Aw3LlHX1K-mn"
   },
   "outputs": [
    {
     "ename": "KeyError",
     "evalue": "'Self_Employed'",
     "output_type": "error",
     "traceback": [
      "\u001b[1;31m---------------------------------------------------------------------------\u001b[0m",
      "\u001b[1;31mKeyError\u001b[0m                                  Traceback (most recent call last)",
      "File \u001b[1;32m~\\anaconda3\\Lib\\site-packages\\pandas\\core\\indexes\\base.py:3653\u001b[0m, in \u001b[0;36mIndex.get_loc\u001b[1;34m(self, key)\u001b[0m\n\u001b[0;32m   3652\u001b[0m \u001b[38;5;28;01mtry\u001b[39;00m:\n\u001b[1;32m-> 3653\u001b[0m     \u001b[38;5;28;01mreturn\u001b[39;00m \u001b[38;5;28mself\u001b[39m\u001b[38;5;241m.\u001b[39m_engine\u001b[38;5;241m.\u001b[39mget_loc(casted_key)\n\u001b[0;32m   3654\u001b[0m \u001b[38;5;28;01mexcept\u001b[39;00m \u001b[38;5;167;01mKeyError\u001b[39;00m \u001b[38;5;28;01mas\u001b[39;00m err:\n",
      "File \u001b[1;32m~\\anaconda3\\Lib\\site-packages\\pandas\\_libs\\index.pyx:147\u001b[0m, in \u001b[0;36mpandas._libs.index.IndexEngine.get_loc\u001b[1;34m()\u001b[0m\n",
      "File \u001b[1;32m~\\anaconda3\\Lib\\site-packages\\pandas\\_libs\\index.pyx:176\u001b[0m, in \u001b[0;36mpandas._libs.index.IndexEngine.get_loc\u001b[1;34m()\u001b[0m\n",
      "File \u001b[1;32mpandas\\_libs\\hashtable_class_helper.pxi:7080\u001b[0m, in \u001b[0;36mpandas._libs.hashtable.PyObjectHashTable.get_item\u001b[1;34m()\u001b[0m\n",
      "File \u001b[1;32mpandas\\_libs\\hashtable_class_helper.pxi:7088\u001b[0m, in \u001b[0;36mpandas._libs.hashtable.PyObjectHashTable.get_item\u001b[1;34m()\u001b[0m\n",
      "\u001b[1;31mKeyError\u001b[0m: 'Self_Employed'",
      "\nThe above exception was the direct cause of the following exception:\n",
      "\u001b[1;31mKeyError\u001b[0m                                  Traceback (most recent call last)",
      "Cell \u001b[1;32mIn[27], line 1\u001b[0m\n\u001b[1;32m----> 1\u001b[0m \u001b[38;5;28;01mdel\u001b[39;00m merged_file[\u001b[38;5;124m'\u001b[39m\u001b[38;5;124mSelf_Employed\u001b[39m\u001b[38;5;124m'\u001b[39m]\n",
      "File \u001b[1;32m~\\anaconda3\\Lib\\site-packages\\pandas\\core\\generic.py:4279\u001b[0m, in \u001b[0;36mNDFrame.__delitem__\u001b[1;34m(self, key)\u001b[0m\n\u001b[0;32m   4274\u001b[0m             deleted \u001b[38;5;241m=\u001b[39m \u001b[38;5;28;01mTrue\u001b[39;00m\n\u001b[0;32m   4275\u001b[0m \u001b[38;5;28;01mif\u001b[39;00m \u001b[38;5;129;01mnot\u001b[39;00m deleted:\n\u001b[0;32m   4276\u001b[0m     \u001b[38;5;66;03m# If the above loop ran and didn't delete anything because\u001b[39;00m\n\u001b[0;32m   4277\u001b[0m     \u001b[38;5;66;03m# there was no match, this call should raise the appropriate\u001b[39;00m\n\u001b[0;32m   4278\u001b[0m     \u001b[38;5;66;03m# exception:\u001b[39;00m\n\u001b[1;32m-> 4279\u001b[0m     loc \u001b[38;5;241m=\u001b[39m \u001b[38;5;28mself\u001b[39m\u001b[38;5;241m.\u001b[39maxes[\u001b[38;5;241m-\u001b[39m\u001b[38;5;241m1\u001b[39m]\u001b[38;5;241m.\u001b[39mget_loc(key)\n\u001b[0;32m   4280\u001b[0m     \u001b[38;5;28mself\u001b[39m\u001b[38;5;241m.\u001b[39m_mgr \u001b[38;5;241m=\u001b[39m \u001b[38;5;28mself\u001b[39m\u001b[38;5;241m.\u001b[39m_mgr\u001b[38;5;241m.\u001b[39midelete(loc)\n\u001b[0;32m   4282\u001b[0m \u001b[38;5;66;03m# delete from the caches\u001b[39;00m\n",
      "File \u001b[1;32m~\\anaconda3\\Lib\\site-packages\\pandas\\core\\indexes\\base.py:3655\u001b[0m, in \u001b[0;36mIndex.get_loc\u001b[1;34m(self, key)\u001b[0m\n\u001b[0;32m   3653\u001b[0m     \u001b[38;5;28;01mreturn\u001b[39;00m \u001b[38;5;28mself\u001b[39m\u001b[38;5;241m.\u001b[39m_engine\u001b[38;5;241m.\u001b[39mget_loc(casted_key)\n\u001b[0;32m   3654\u001b[0m \u001b[38;5;28;01mexcept\u001b[39;00m \u001b[38;5;167;01mKeyError\u001b[39;00m \u001b[38;5;28;01mas\u001b[39;00m err:\n\u001b[1;32m-> 3655\u001b[0m     \u001b[38;5;28;01mraise\u001b[39;00m \u001b[38;5;167;01mKeyError\u001b[39;00m(key) \u001b[38;5;28;01mfrom\u001b[39;00m \u001b[38;5;21;01merr\u001b[39;00m\n\u001b[0;32m   3656\u001b[0m \u001b[38;5;28;01mexcept\u001b[39;00m \u001b[38;5;167;01mTypeError\u001b[39;00m:\n\u001b[0;32m   3657\u001b[0m     \u001b[38;5;66;03m# If we have a listlike key, _check_indexing_error will raise\u001b[39;00m\n\u001b[0;32m   3658\u001b[0m     \u001b[38;5;66;03m#  InvalidIndexError. Otherwise we fall through and re-raise\u001b[39;00m\n\u001b[0;32m   3659\u001b[0m     \u001b[38;5;66;03m#  the TypeError.\u001b[39;00m\n\u001b[0;32m   3660\u001b[0m     \u001b[38;5;28mself\u001b[39m\u001b[38;5;241m.\u001b[39m_check_indexing_error(key)\n",
      "\u001b[1;31mKeyError\u001b[0m: 'Self_Employed'"
     ]
    }
   ],
   "source": [
    "del merged_file['Self_Employed']"
   ]
  },
  {
   "cell_type": "markdown",
   "metadata": {
    "id": "vgIxDdBrK-mp"
   },
   "source": [
    "## Remove garbage data"
   ]
  },
  {
   "cell_type": "markdown",
   "metadata": {
    "id": "BiOIFhTZ4OB9"
   },
   "source": [
    "If we go back to one of the EDA steps where we saw the unique values of Dependents, we can see that we have '3+' as a value. In order to make the algorithm learn from such information, we have to replace this with a number. We will replace it by 3."
   ]
  },
  {
   "cell_type": "code",
   "execution_count": 28,
   "metadata": {
    "ExecuteTime": {
     "end_time": "2024-03-03T20:55:40.226992800Z",
     "start_time": "2024-03-03T20:55:40.161789700Z"
    },
    "id": "x55J60oFK-mq",
    "outputId": "c9a7dc2d-c6fb-4dca-d163-a1ab05b533bd"
   },
   "outputs": [
    {
     "name": "stdout",
     "output_type": "stream",
     "text": [
      "Loan_ID\n",
      "LP001002    0\n",
      "LP001003    1\n",
      "LP001005    0\n",
      "LP001006    0\n",
      "LP001008    0\n",
      "           ..\n",
      "LP002978    0\n",
      "LP002979    3\n",
      "LP002983    1\n",
      "LP002984    2\n",
      "LP002990    0\n",
      "Name: Dependents, Length: 614, dtype: object\n"
     ]
    }
   ],
   "source": [
    "for value in merged_file['Dependents']:\n",
    "    if value == '3+':\n",
    "        merged_file['Dependents'] = merged_file['Dependents'].replace(value,'3')\n",
    "print(merged_file['Dependents'])"
   ]
  },
  {
   "cell_type": "markdown",
   "metadata": {
    "id": "oBpOQ6MVK-mr"
   },
   "source": [
    "##Convert continuous data into categorical"
   ]
  },
  {
   "cell_type": "markdown",
   "metadata": {
    "id": "vjiUxOU6OfRf"
   },
   "source": []
  },
  {
   "cell_type": "markdown",
   "metadata": {
    "id": "Su3zYNN14rce"
   },
   "source": [
    "Search for the feature that is continuous but should be categorical and convert it"
   ]
  },
  {
   "cell_type": "code",
   "execution_count": 32,
   "metadata": {
    "ExecuteTime": {
     "end_time": "2024-03-03T21:28:25.035188900Z",
     "start_time": "2024-03-03T21:28:24.975704Z"
    },
    "id": "UATLaXcwK-ms",
    "outputId": "fc68bdad-0baa-4ca6-d739-2c7c3f6376d2"
   },
   "outputs": [
    {
     "name": "stdout",
     "output_type": "stream",
     "text": [
      "Potential Categorical Columns: ['Gender', 'Married', 'Dependents', 'Education', 'Loan_Amount_Term', 'Credit_History', 'Property_Area', 'Loan_Status']\n",
      "\n",
      "Updated DataFrame:\n",
      "          Gender Married Dependents     Education  ApplicantIncome  \\\n",
      "Loan_ID                                                              \n",
      "LP001002    Male      No          0      Graduate             5849   \n",
      "LP001003    Male     Yes          1      Graduate             4583   \n",
      "LP001005    Male     Yes          0      Graduate             3000   \n",
      "LP001006    Male     Yes          0  Not Graduate             2583   \n",
      "LP001008    Male      No          0      Graduate             6000   \n",
      "...          ...     ...        ...           ...              ...   \n",
      "LP002978  Female      No          0      Graduate             2900   \n",
      "LP002979    Male     Yes          3      Graduate             4106   \n",
      "LP002983    Male     Yes          1      Graduate             8072   \n",
      "LP002984    Male     Yes          2      Graduate             7583   \n",
      "LP002990  Female      No          0      Graduate             4583   \n",
      "\n",
      "          CoapplicantIncome  LoanAmount Loan_Amount_Term Credit_History  \\\n",
      "Loan_ID                                                                   \n",
      "LP001002                0.0  146.412162            360.0            1.0   \n",
      "LP001003             1508.0  128.000000            360.0            1.0   \n",
      "LP001005                0.0   66.000000            360.0            1.0   \n",
      "LP001006             2358.0  120.000000            360.0            1.0   \n",
      "LP001008                0.0  141.000000            360.0            1.0   \n",
      "...                     ...         ...              ...            ...   \n",
      "LP002978                0.0   71.000000            360.0            1.0   \n",
      "LP002979                0.0   40.000000            180.0            1.0   \n",
      "LP002983              240.0  253.000000            360.0            1.0   \n",
      "LP002984                0.0  187.000000            360.0            1.0   \n",
      "LP002990                0.0  133.000000            360.0            0.0   \n",
      "\n",
      "         Property_Area Loan_Status  \n",
      "Loan_ID                             \n",
      "LP001002         Urban           Y  \n",
      "LP001003         Rural           N  \n",
      "LP001005         Urban           Y  \n",
      "LP001006         Urban           Y  \n",
      "LP001008         Urban           Y  \n",
      "...                ...         ...  \n",
      "LP002978         Rural           Y  \n",
      "LP002979         Rural           Y  \n",
      "LP002983         Urban           Y  \n",
      "LP002984         Urban           Y  \n",
      "LP002990     Semiurban           N  \n",
      "\n",
      "[614 rows x 11 columns]\n"
     ]
    }
   ],
   "source": [
    "unique_value_threshold = 10\n",
    "\n",
    "# Identify columns with a limited number of unique values\n",
    "potential_categorical_columns = [col for col in merged_file.columns if merged_file[col].nunique() <= unique_value_threshold]\n",
    "print(\"Potential Categorical Columns:\", potential_categorical_columns)\n",
    "\n",
    "# Convert identified  categorical columns to category type\n",
    "merged_file[potential_categorical_columns] = merged_file[potential_categorical_columns].astype('category')\n",
    "\n",
    "# Display\n",
    "print(\"\\nUpdated DataFrame:\")\n",
    "print(merged_file)"
   ]
  },
  {
   "cell_type": "markdown",
   "metadata": {
    "id": "RpDPJgQzK-mu"
   },
   "source": [
    "## Treat missing data\n",
    "- fill missing categorical data & discrete data with mode\n",
    "- fill missing continuous data with mean\n"
   ]
  },
  {
   "cell_type": "code",
   "execution_count": 33,
   "metadata": {
    "ExecuteTime": {
     "end_time": "2024-03-03T22:11:51.405796400Z",
     "start_time": "2024-03-03T22:11:51.343661700Z"
    },
    "id": "1ifJSObwK-mv",
    "outputId": "849c5c19-3d7d-493a-b5ed-0afef5f24be5"
   },
   "outputs": [
    {
     "name": "stdout",
     "output_type": "stream",
     "text": [
      "         Gender Married Dependents     Education  ApplicantIncome  \\\n",
      "Loan_ID                                                             \n",
      "LP001002   Male      No          0      Graduate             5849   \n",
      "LP001003   Male     Yes          1      Graduate             4583   \n",
      "LP001005   Male     Yes          0      Graduate             3000   \n",
      "LP001006   Male     Yes          0  Not Graduate             2583   \n",
      "LP001008   Male      No          0      Graduate             6000   \n",
      "\n",
      "          CoapplicantIncome  LoanAmount Loan_Amount_Term Credit_History  \\\n",
      "Loan_ID                                                                   \n",
      "LP001002                0.0  146.412162            360.0            1.0   \n",
      "LP001003             1508.0  128.000000            360.0            1.0   \n",
      "LP001005                0.0   66.000000            360.0            1.0   \n",
      "LP001006             2358.0  120.000000            360.0            1.0   \n",
      "LP001008                0.0  141.000000            360.0            1.0   \n",
      "\n",
      "         Property_Area Loan_Status  \n",
      "Loan_ID                             \n",
      "LP001002         Urban           Y  \n",
      "LP001003         Rural           N  \n",
      "LP001005         Urban           Y  \n",
      "LP001006         Urban           Y  \n",
      "LP001008         Urban           Y  \n"
     ]
    }
   ],
   "source": [
    "categorical_columns = merged_file.select_dtypes(include=['category']).columns\n",
    "discrete_columns = merged_file.select_dtypes(include=['int64']).columns\n",
    "continuous_columns = merged_file.select_dtypes(include=['float64']).columns\n",
    "\n",
    "for col in categorical_columns:\n",
    "    mode_value = merged_file[col].mode().iloc[0]\n",
    "    merged_file[col] = merged_file[col].fillna(mode_value)\n",
    "\n",
    "for col in discrete_columns:\n",
    "    mode_value = merged_file[col].mode().iloc[0]\n",
    "    merged_file[col] = merged_file[col].fillna(mode_value)\n",
    "\n",
    "for col in continuous_columns:\n",
    "    mean_value = merged_file[col].mean()\n",
    "    merged_file[col] = merged_file[col].fillna(mean_value)\n",
    "\n",
    "# Display the updated DataFrame\n",
    "print(merged_file.head())"
   ]
  },
  {
   "cell_type": "markdown",
   "metadata": {
    "id": "x90s4TXqK-mx"
   },
   "source": [
    "## Check if any null value exist"
   ]
  },
  {
   "cell_type": "code",
   "execution_count": 34,
   "metadata": {
    "ExecuteTime": {
     "end_time": "2024-03-03T21:32:05.204006700Z",
     "start_time": "2024-03-03T21:32:05.149892500Z"
    },
    "id": "lJi4rqkcK-mx",
    "outputId": "b087e730-4673-4032-c35f-5c7848831984"
   },
   "outputs": [
    {
     "name": "stdout",
     "output_type": "stream",
     "text": [
      "Gender               False\n",
      "Married              False\n",
      "Dependents           False\n",
      "Education            False\n",
      "ApplicantIncome      False\n",
      "CoapplicantIncome    False\n",
      "LoanAmount           False\n",
      "Loan_Amount_Term     False\n",
      "Credit_History       False\n",
      "Property_Area        False\n",
      "Loan_Status          False\n",
      "dtype: bool\n"
     ]
    }
   ],
   "source": [
    "print(merged_file.isnull().any())\n"
   ]
  },
  {
   "cell_type": "markdown",
   "metadata": {
    "id": "p-aMmUFxK-m0"
   },
   "source": [
    "## Encode categorical data"
   ]
  },
  {
   "cell_type": "markdown",
   "metadata": {
    "id": "sdFVf2_y5ztH"
   },
   "source": [
    "Go over your categorical features and encode them (change their values to be numerical to be able to feed them to an algorithm and get a model in the end)"
   ]
  },
  {
   "cell_type": "code",
   "execution_count": 35,
   "metadata": {
    "ExecuteTime": {
     "end_time": "2024-03-03T22:20:23.229033500Z",
     "start_time": "2024-03-03T22:20:23.152926Z"
    },
    "id": "glKxNWrh5_9z",
    "outputId": "e0b892d9-0d69-4967-e0bc-2e6965804da3"
   },
   "outputs": [
    {
     "name": "stdout",
     "output_type": "stream",
     "text": [
      "          Gender  Married  Dependents  Education  ApplicantIncome  \\\n",
      "Loan_ID                                                             \n",
      "LP001002       1        0           0          0             5849   \n",
      "LP001003       1        1           1          0             4583   \n",
      "LP001005       1        1           0          0             3000   \n",
      "LP001006       1        1           0          1             2583   \n",
      "LP001008       1        0           0          0             6000   \n",
      "...          ...      ...         ...        ...              ...   \n",
      "LP002978       0        0           0          0             2900   \n",
      "LP002979       1        1           3          0             4106   \n",
      "LP002983       1        1           1          0             8072   \n",
      "LP002984       1        1           2          0             7583   \n",
      "LP002990       0        0           0          0             4583   \n",
      "\n",
      "          CoapplicantIncome  LoanAmount  Loan_Amount_Term  Credit_History  \\\n",
      "Loan_ID                                                                     \n",
      "LP001002                0.0  146.412162                 8               1   \n",
      "LP001003             1508.0  128.000000                 8               1   \n",
      "LP001005                0.0   66.000000                 8               1   \n",
      "LP001006             2358.0  120.000000                 8               1   \n",
      "LP001008                0.0  141.000000                 8               1   \n",
      "...                     ...         ...               ...             ...   \n",
      "LP002978                0.0   71.000000                 8               1   \n",
      "LP002979                0.0   40.000000                 5               1   \n",
      "LP002983              240.0  253.000000                 8               1   \n",
      "LP002984                0.0  187.000000                 8               1   \n",
      "LP002990                0.0  133.000000                 8               0   \n",
      "\n",
      "          Property_Area  Loan_Status  \n",
      "Loan_ID                               \n",
      "LP001002              2            1  \n",
      "LP001003              0            0  \n",
      "LP001005              2            1  \n",
      "LP001006              2            1  \n",
      "LP001008              2            1  \n",
      "...                 ...          ...  \n",
      "LP002978              0            1  \n",
      "LP002979              0            1  \n",
      "LP002983              2            1  \n",
      "LP002984              2            1  \n",
      "LP002990              1            0  \n",
      "\n",
      "[614 rows x 11 columns]\n"
     ]
    }
   ],
   "source": [
    "from sklearn.preprocessing import LabelEncoder\n",
    "\n",
    "label_encoder = LabelEncoder()\n",
    "\n",
    "# Apply LabelEncoder to each categorical column\n",
    "for col in merged_file.select_dtypes(include='category').columns:\n",
    "    merged_file[col] = label_encoder.fit_transform(merged_file[col])\n",
    "print(merged_file)\n"
   ]
  },
  {
   "cell_type": "markdown",
   "metadata": {
    "id": "qjg5n5OfK-m8"
   },
   "source": [
    "## Normalization"
   ]
  },
  {
   "cell_type": "markdown",
   "metadata": {
    "id": "Xkzk1XJBCdUm"
   },
   "source": [
    "Normalize data ranges for all features (e.g., between 0 and 1)\n",
    "First compute the maximum of each feature, and then divide each column by its maximum. After it, describe the data.\n",
    "Why to do that?\n",
    "Because Logistic regression will assign higher importance to features with larger values, even if they are not actually more important."
   ]
  },
  {
   "cell_type": "code",
   "execution_count": 36,
   "metadata": {
    "ExecuteTime": {
     "end_time": "2024-03-03T22:25:35.215962300Z",
     "start_time": "2024-03-03T22:25:35.162145800Z"
    },
    "id": "8FDSN28P6bas",
    "outputId": "3cbf4bf7-3c54-44a0-d575-7ca98b851a33"
   },
   "outputs": [
    {
     "name": "stdout",
     "output_type": "stream",
     "text": [
      "           Gender     Married  Dependents   Education  ApplicantIncome  \\\n",
      "count  614.000000  614.000000  614.000000  614.000000       614.000000   \n",
      "mean     0.817590    0.653094    0.248100    0.218241         0.066709   \n",
      "std      0.386497    0.476373    0.336541    0.413389         0.075420   \n",
      "min      0.000000    0.000000    0.000000    0.000000         0.001852   \n",
      "25%      1.000000    0.000000    0.000000    0.000000         0.035525   \n",
      "50%      1.000000    1.000000    0.000000    0.000000         0.047068   \n",
      "75%      1.000000    1.000000    0.333333    0.000000         0.071543   \n",
      "max      1.000000    1.000000    1.000000    1.000000         1.000000   \n",
      "\n",
      "       CoapplicantIncome  LoanAmount  Loan_Amount_Term  Credit_History  \\\n",
      "count         614.000000  614.000000        614.000000      614.000000   \n",
      "mean            0.038910    0.209160          0.851972        0.855049   \n",
      "std             0.070229    0.120054          0.123247        0.352339   \n",
      "min             0.000000    0.012857          0.000000        0.000000   \n",
      "25%             0.000000    0.143214          0.888889        1.000000   \n",
      "50%             0.028524    0.184286          0.888889        1.000000   \n",
      "75%             0.055134    0.235357          0.888889        1.000000   \n",
      "max             1.000000    1.000000          1.000000        1.000000   \n",
      "\n",
      "       Property_Area  Loan_Status  \n",
      "count     614.000000   614.000000  \n",
      "mean        0.518730     0.687296  \n",
      "std         0.393741     0.463973  \n",
      "min         0.000000     0.000000  \n",
      "25%         0.000000     0.000000  \n",
      "50%         0.500000     1.000000  \n",
      "75%         1.000000     1.000000  \n",
      "max         1.000000     1.000000  \n"
     ]
    }
   ],
   "source": [
    "max_values = merged_file.max()\n",
    "\n",
    "# Normalize the data by dividing each column by its maximum\n",
    "normalized_df = merged_file / max_values\n",
    "\n",
    "# Describe the normalized data\n",
    "normalized_description = normalized_df.describe()\n",
    "print(normalized_description)\n"
   ]
  },
  {
   "cell_type": "markdown",
   "metadata": {
    "id": "rW7e-IqSK-nA"
   },
   "source": [
    "# 6. Training & Validating"
   ]
  },
  {
   "cell_type": "markdown",
   "metadata": {
    "id": "a1R3upjnRVks"
   },
   "source": [
    "Create a variable x for the inputs (Features), and a variable y for the output ('Loan_Status')\n",
    "Then, split the data between training (70%) and testing (30%)."
   ]
  },
  {
   "cell_type": "code",
   "execution_count": 37,
   "metadata": {
    "ExecuteTime": {
     "end_time": "2024-03-04T00:42:56.069256300Z",
     "start_time": "2024-03-04T00:42:56.026147500Z"
    },
    "id": "IfUvvKFTK-nA",
    "outputId": "8bfaef24-da1c-4bfe-f8f7-b91bd462697f"
   },
   "outputs": [
    {
     "name": "stdout",
     "output_type": "stream",
     "text": [
      "X_train shape: (429, 10)\n",
      "X_test shape: (185, 10)\n",
      "y_train shape: (429,)\n",
      "y_test shape: (185,)\n"
     ]
    }
   ],
   "source": [
    "from sklearn.model_selection import train_test_split\n",
    "# 'Loan_Status' is the target variable (output)\n",
    "X = normalized_df.drop('Loan_Status', axis=1)  # Input features\n",
    "y = normalized_df['Loan_Status']  # Output\n",
    "\n",
    "# Split the data into training (70%) and testing (30%)\n",
    "X_train, X_test, y_train, y_test = train_test_split(X, y, test_size=0.3)\n",
    "\n",
    "# Display the shapes of the resulting datasets\n",
    "print(\"X_train shape:\", X_train.shape)\n",
    "print(\"X_test shape:\", X_test.shape)\n",
    "print(\"y_train shape:\", y_train.shape)\n",
    "print(\"y_test shape:\", y_test.shape)"
   ]
  },
  {
   "cell_type": "markdown",
   "metadata": {
    "id": "5qIDedqKTtfN"
   },
   "source": [
    "## 7. Creating & Fitting the model"
   ]
  },
  {
   "cell_type": "markdown",
   "metadata": {
    "id": "hWDUL-_y69FP"
   },
   "source": [
    "Create a Logistic Regression Model, and fit it on the training data you have"
   ]
  },
  {
   "cell_type": "code",
   "execution_count": 38,
   "metadata": {
    "ExecuteTime": {
     "end_time": "2024-03-04T01:05:41.803361700Z",
     "start_time": "2024-03-04T01:05:41.426168900Z"
    },
    "id": "Ejo6DMwoSTbV",
    "outputId": "cca65dad-7cc2-4c2a-c7c8-653119628925"
   },
   "outputs": [
    {
     "data": {
      "text/html": [
       "<style>#sk-container-id-1 {color: black;}#sk-container-id-1 pre{padding: 0;}#sk-container-id-1 div.sk-toggleable {background-color: white;}#sk-container-id-1 label.sk-toggleable__label {cursor: pointer;display: block;width: 100%;margin-bottom: 0;padding: 0.3em;box-sizing: border-box;text-align: center;}#sk-container-id-1 label.sk-toggleable__label-arrow:before {content: \"▸\";float: left;margin-right: 0.25em;color: #696969;}#sk-container-id-1 label.sk-toggleable__label-arrow:hover:before {color: black;}#sk-container-id-1 div.sk-estimator:hover label.sk-toggleable__label-arrow:before {color: black;}#sk-container-id-1 div.sk-toggleable__content {max-height: 0;max-width: 0;overflow: hidden;text-align: left;background-color: #f0f8ff;}#sk-container-id-1 div.sk-toggleable__content pre {margin: 0.2em;color: black;border-radius: 0.25em;background-color: #f0f8ff;}#sk-container-id-1 input.sk-toggleable__control:checked~div.sk-toggleable__content {max-height: 200px;max-width: 100%;overflow: auto;}#sk-container-id-1 input.sk-toggleable__control:checked~label.sk-toggleable__label-arrow:before {content: \"▾\";}#sk-container-id-1 div.sk-estimator input.sk-toggleable__control:checked~label.sk-toggleable__label {background-color: #d4ebff;}#sk-container-id-1 div.sk-label input.sk-toggleable__control:checked~label.sk-toggleable__label {background-color: #d4ebff;}#sk-container-id-1 input.sk-hidden--visually {border: 0;clip: rect(1px 1px 1px 1px);clip: rect(1px, 1px, 1px, 1px);height: 1px;margin: -1px;overflow: hidden;padding: 0;position: absolute;width: 1px;}#sk-container-id-1 div.sk-estimator {font-family: monospace;background-color: #f0f8ff;border: 1px dotted black;border-radius: 0.25em;box-sizing: border-box;margin-bottom: 0.5em;}#sk-container-id-1 div.sk-estimator:hover {background-color: #d4ebff;}#sk-container-id-1 div.sk-parallel-item::after {content: \"\";width: 100%;border-bottom: 1px solid gray;flex-grow: 1;}#sk-container-id-1 div.sk-label:hover label.sk-toggleable__label {background-color: #d4ebff;}#sk-container-id-1 div.sk-serial::before {content: \"\";position: absolute;border-left: 1px solid gray;box-sizing: border-box;top: 0;bottom: 0;left: 50%;z-index: 0;}#sk-container-id-1 div.sk-serial {display: flex;flex-direction: column;align-items: center;background-color: white;padding-right: 0.2em;padding-left: 0.2em;position: relative;}#sk-container-id-1 div.sk-item {position: relative;z-index: 1;}#sk-container-id-1 div.sk-parallel {display: flex;align-items: stretch;justify-content: center;background-color: white;position: relative;}#sk-container-id-1 div.sk-item::before, #sk-container-id-1 div.sk-parallel-item::before {content: \"\";position: absolute;border-left: 1px solid gray;box-sizing: border-box;top: 0;bottom: 0;left: 50%;z-index: -1;}#sk-container-id-1 div.sk-parallel-item {display: flex;flex-direction: column;z-index: 1;position: relative;background-color: white;}#sk-container-id-1 div.sk-parallel-item:first-child::after {align-self: flex-end;width: 50%;}#sk-container-id-1 div.sk-parallel-item:last-child::after {align-self: flex-start;width: 50%;}#sk-container-id-1 div.sk-parallel-item:only-child::after {width: 0;}#sk-container-id-1 div.sk-dashed-wrapped {border: 1px dashed gray;margin: 0 0.4em 0.5em 0.4em;box-sizing: border-box;padding-bottom: 0.4em;background-color: white;}#sk-container-id-1 div.sk-label label {font-family: monospace;font-weight: bold;display: inline-block;line-height: 1.2em;}#sk-container-id-1 div.sk-label-container {text-align: center;}#sk-container-id-1 div.sk-container {/* jupyter's `normalize.less` sets `[hidden] { display: none; }` but bootstrap.min.css set `[hidden] { display: none !important; }` so we also need the `!important` here to be able to override the default hidden behavior on the sphinx rendered scikit-learn.org. See: https://github.com/scikit-learn/scikit-learn/issues/21755 */display: inline-block !important;position: relative;}#sk-container-id-1 div.sk-text-repr-fallback {display: none;}</style><div id=\"sk-container-id-1\" class=\"sk-top-container\"><div class=\"sk-text-repr-fallback\"><pre>LogisticRegression(max_iter=10000)</pre><b>In a Jupyter environment, please rerun this cell to show the HTML representation or trust the notebook. <br />On GitHub, the HTML representation is unable to render, please try loading this page with nbviewer.org.</b></div><div class=\"sk-container\" hidden><div class=\"sk-item\"><div class=\"sk-estimator sk-toggleable\"><input class=\"sk-toggleable__control sk-hidden--visually\" id=\"sk-estimator-id-1\" type=\"checkbox\" checked><label for=\"sk-estimator-id-1\" class=\"sk-toggleable__label sk-toggleable__label-arrow\">LogisticRegression</label><div class=\"sk-toggleable__content\"><pre>LogisticRegression(max_iter=10000)</pre></div></div></div></div></div>"
      ],
      "text/plain": [
       "LogisticRegression(max_iter=10000)"
      ]
     },
     "execution_count": 38,
     "metadata": {},
     "output_type": "execute_result"
    }
   ],
   "source": [
    "from sklearn.linear_model import LogisticRegression\n",
    "logistic_regression_model = LogisticRegression(max_iter=10000)\n",
    "\n",
    "# Fit the model on the training data\n",
    "logistic_regression_model.fit(X_train, y_train)"
   ]
  },
  {
   "cell_type": "markdown",
   "metadata": {
    "id": "xTy8UkrEUNLM"
   },
   "source": [
    "##Validating the model"
   ]
  },
  {
   "cell_type": "markdown",
   "metadata": {
    "id": "Vs4tVSCL7G8W"
   },
   "source": [
    "Validate your model on the testing data, and compute the accuracy score of your predictions"
   ]
  },
  {
   "cell_type": "code",
   "execution_count": 39,
   "metadata": {
    "ExecuteTime": {
     "end_time": "2024-03-04T01:07:09.456000400Z",
     "start_time": "2024-03-04T01:07:09.399407200Z"
    },
    "id": "GWFaCCnWUB2y",
    "outputId": "cd72caf3-6d83-4c07-a4b6-072fdb7d9a7b"
   },
   "outputs": [
    {
     "name": "stdout",
     "output_type": "stream",
     "text": [
      "Accuracy Score: 0.8162162162162162\n"
     ]
    }
   ],
   "source": [
    "from sklearn.metrics import accuracy_score\n",
    "\n",
    "# Assuming the logistic_regression_model is already created and fitted\n",
    "\n",
    "# Make predictions on the testing data\n",
    "y_pred = logistic_regression_model.predict(X_test)\n",
    "\n",
    "# Compute and display the accuracy score\n",
    "accuracy = accuracy_score(y_test, y_pred)\n",
    "print(\"Accuracy Score:\", accuracy)\n"
   ]
  },
  {
   "cell_type": "markdown",
   "metadata": {
    "id": "VaHFGXcVUdBb"
   },
   "source": [
    "## 8. Feature Importance"
   ]
  },
  {
   "cell_type": "markdown",
   "metadata": {
    "id": "rsx4xYBAUtv9"
   },
   "source": [
    "Evaluate the feature importance in your resulting model, and plot it.<br>\n",
    "We can see that the results match with those of Cross Tabulation."
   ]
  },
  {
   "cell_type": "code",
   "execution_count": 40,
   "metadata": {
    "ExecuteTime": {
     "end_time": "2024-03-04T01:09:52.890330Z",
     "start_time": "2024-03-04T01:09:52.727003500Z"
    },
    "id": "N63Z5NZ3US-W",
    "outputId": "847db9f6-f1c9-429d-e276-9317a434345b"
   },
   "outputs": [
    {
     "data": {
      "image/png": "[encoded data removed]",
      "text/plain": [
       "<Figure size 1000x600 with 1 Axes>"
      ]
     },
     "metadata": {},
     "output_type": "display_data"
    }
   ],
   "source": [
    "coefficients = logistic_regression_model.coef_[0]\n",
    "feature_names = X_train.columns\n",
    "\n",
    "# Create a DataFrame to organize the coefficients and feature names\n",
    "coefficients_df = pd.DataFrame({'Feature': feature_names, 'Coefficient': coefficients})\n",
    "\n",
    "# Sort the DataFrame by absolute coefficient values\n",
    "coefficients_df['AbsoluteCoefficient'] = np.abs(coefficients_df['Coefficient'])\n",
    "coefficients_df = coefficients_df.sort_values(by='AbsoluteCoefficient', ascending=False)\n",
    "\n",
    "# Plot the feature importance\n",
    "plt.figure(figsize=(10, 6))\n",
    "plt.barh(coefficients_df['Feature'], coefficients_df['Coefficient'], color='skyblue')\n",
    "plt.xlabel('Coefficient Value')\n",
    "plt.title('Logistic Regression Feature Importance')\n",
    "plt.show()"
   ]
  },
  {
   "cell_type": "markdown",
   "metadata": {
    "id": "PUdgyH7zU1v1"
   },
   "source": [
    "What are the most and least important feature?"
   ]
  },
  {
   "cell_type": "raw",
   "metadata": {
    "id": "cKeVLm58H5gJ"
   },
   "source": [
    "Credit_History has the highest positive coefficient (~3.0), meaning it is the most important feature in predicting loan approval. If an applicant has a good credit history, they are much more likely to get their loan approved.\n",
    "\n",
    "Least Important Features (Near Zero Coefficients):\n",
    "This indicates that Gender has little to no effect on loan approval in this model.\n"
   ]
  }
 ],
 "metadata": {
  "colab": {
   "provenance": []
  },
  "kernelspec": {
   "display_name": "Python 3 (ipykernel)",
   "language": "python",
   "name": "python3"
  },
  "language_info": {
   "codemirror_mode": {
    "name": "ipython",
    "version": 3
   },
   "file_extension": ".py",
   "mimetype": "text/x-python",
   "name": "python",
   "nbconvert_exporter": "python",
   "pygments_lexer": "ipython3",
   "version": "3.11.5"
  }
 },
 "nbformat": 4,
 "nbformat_minor": 1
}
